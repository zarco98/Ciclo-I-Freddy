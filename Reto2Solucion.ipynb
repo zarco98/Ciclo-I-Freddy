{
  "nbformat": 4,
  "nbformat_minor": 0,
  "metadata": {
    "colab": {
      "provenance": [],
      "authorship_tag": "ABX9TyMktCTyPWMHWlcG49Re3per",
      "include_colab_link": true
    },
    "kernelspec": {
      "name": "python3",
      "display_name": "Python 3"
    },
    "language_info": {
      "name": "python"
    }
  },
  "cells": [
    {
      "cell_type": "markdown",
      "metadata": {
        "id": "view-in-github",
        "colab_type": "text"
      },
      "source": [
        "<a href=\"https://colab.research.google.com/github/zarco98/Ciclo-I-Freddy/blob/Reto-2/Reto2Solucion.ipynb\" target=\"_parent\"><img src=\"https://colab.research.google.com/assets/colab-badge.svg\" alt=\"Open In Colab\"/></a>"
      ]
    },
    {
      "cell_type": "code",
      "execution_count": null,
      "metadata": {
        "id": "pBSevANhau6m"
      },
      "outputs": [],
      "source": [
        "def calcular_promedio_y_cuadro_honor(grupo) :\n",
        "    #ACÁ INICIA LA FUNCIÓN SOLUCIÓN (En este espacio debes entregar tu solución)\n",
        "                grupo.sort(key = lambda x: x['nota_fundamentos'], reverse = True)\n",
        "                sumatoria_notas = 0\n",
        "                for estudiante in grupo:\n",
        "                    sumatoria_notas = sumatoria_notas + estudiante[\"nota_fundamentos\"]\n",
        "                    calcular_promedio = float(sumatoria_notas/len(grupo))\n",
        "                    cuadro_honor={\"1\":[],\"2\":[],\"3\":[]}\n",
        "                    \n",
        "                posicion = 1\n",
        "                for estudiante in grupo: \n",
        "                    if estudiante[\"nota_fundamentos\"] == grupo[0][\"nota_fundamentos\"]:\n",
        "                        nota_mas_alta = estudiante[\"nota_fundamentos\"]\n",
        "                    if estudiante[\"nota_fundamentos\"] == nota_mas_alta:\n",
        "                        cuadro_honor[str(posicion)].append(estudiante[\"cédula\"])\n",
        "                    else:\n",
        "                        posicion= posicion+1\n",
        "                        if posicion>3:\n",
        "                            break\n",
        "                        cuadro_honor[str(posicion)].append(estudiante[\"cédula\"])\n",
        "                        nota_mas_alta = estudiante[\"nota_fundamentos\"]\n",
        "\n",
        "    #ACÁ TERMINA LA FUNCIÓN SOLUCIÓN\n",
        "                return calcular_promedio_y_cuadro_honor\n",
        "\"\"\"¡IMPORTANTE! ¡IMPORTANTE! ¡IMPORTANTE! ¡IMPORTANTE! ¡IMPORTANTE! ¡IMPORTANTE! ¡IMPORTANTE! ¡IMPORTANTE!\n",
        "NO AÑADIR CÓDIGO FUERA DE LA FUNCIÓN calcular_promedio_y_cuadro_honor(grupo) .\n",
        "SOLO AÑADIR CÓDIGO ENTRE EL ESPACIO DONDE DICE: ACÁ INICIA... ACÁ TERMINA\"\"\""
      ]
    }
  ]
}