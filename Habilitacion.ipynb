{
  "nbformat": 4,
  "nbformat_minor": 0,
  "metadata": {
    "colab": {
      "provenance": [],
      "authorship_tag": "ABX9TyP++zS71dRvTtkfJ7L7VPFZ",
      "include_colab_link": true
    },
    "kernelspec": {
      "name": "python3",
      "display_name": "Python 3"
    },
    "language_info": {
      "name": "python"
    }
  },
  "cells": [
    {
      "cell_type": "markdown",
      "metadata": {
        "id": "view-in-github",
        "colab_type": "text"
      },
      "source": [
        "<a href=\"https://colab.research.google.com/github/zarco98/Ciclo-I-Freddy/blob/Habilitacion/Habilitacion.ipynb\" target=\"_parent\"><img src=\"https://colab.research.google.com/assets/colab-badge.svg\" alt=\"Open In Colab\"/></a>"
      ]
    },
    {
      "cell_type": "code",
      "execution_count": null,
      "metadata": {
        "id": "Vq0IhUoDxKRV"
      },
      "outputs": [],
      "source": [
        "#NO ELIMINAR LAS SIGUIENTES IMPORTACIONES, sirven para el funcionamiento de las librería csv y json respectivamente\n",
        "import csv, json\n",
        "\"\"\"NOTAS: \n",
        "    - PARA ESTE RETO PUEDES PROBAR TU PROGRAMA, DANDO CLICK EN LA NAVE ESPACIAL\n",
        "    - LA CONSOLA TE DIRÁ SI TU SOLUCIÓN ES CORRECTA O NO\n",
        "    - NO olvidar evaluar tu solución\n",
        "\"\"\"\n",
        "\n",
        "\n",
        "\"\"\"Inicio espacio para programar funciones propias\"\"\"\n",
        "#En este espacio podrás programar las funciones que deseas usar en la función solución (ES OPCIONAL)\n",
        "\n",
        "\n",
        "\n",
        "\"\"\"Fin espacio para programar funciones propias\"\"\"\n",
        "\n",
        "def solucion():\n",
        "    #ESTA ES LA FUNCIÓN A LA QUE LE DEBES GARANTIZAR LOS RETORNOS REQUERIDOS EN EL ENUNCIADO.\n",
        "    \n",
        "    \n",
        "    \n",
        "    \n",
        "   "
      ]
    }
  ]
}