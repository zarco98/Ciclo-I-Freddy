{
  "nbformat": 4,
  "nbformat_minor": 0,
  "metadata": {
    "colab": {
      "provenance": [],
      "authorship_tag": "ABX9TyNa2LA6XbTkaTTjeICmeXeE",
      "include_colab_link": true
    },
    "kernelspec": {
      "name": "python3",
      "display_name": "Python 3"
    },
    "language_info": {
      "name": "python"
    }
  },
  "cells": [
    {
      "cell_type": "markdown",
      "metadata": {
        "id": "view-in-github",
        "colab_type": "text"
      },
      "source": [
        "<a href=\"https://colab.research.google.com/github/zarco98/Ciclo-I-Freddy/blob/Reto-4/Reto4.ipynb\" target=\"_parent\"><img src=\"https://colab.research.google.com/assets/colab-badge.svg\" alt=\"Open In Colab\"/></a>"
      ]
    },
    {
      "cell_type": "code",
      "execution_count": null,
      "metadata": {
        "id": "QAUfVSaxgUcp"
      },
      "outputs": [],
      "source": [
        "# POR FAVOR LEA TODAS LAS INDICACIONES SUMINISTRADAS EN EL \n",
        "# ENUNCIADO ANTES DE EMPEZAR A IMPLEMENTAR SU SOLUCIÓN\n",
        "\n",
        "def es_semestre_valido(p, s):\n",
        "    # ESTA VEZ TU DEFINES TUS RETORNOS\n",
        "\n",
        "def es_semestre_vacio(p, s):\n",
        "    # ESTA VEZ TU DEFINES TUS RETORNOS\n",
        "\n",
        "def es_materia_valida(p, s, m):\n",
        "    # ESTA VEZ TU DEFINES TUS RETORNOS\n",
        "\n",
        "def modificar_materia(pensum, semestre, materia, nombre, creditos):\n",
        "    # ACÁ INICIA LA FUNCIÓN\n",
        "    \n",
        "    \n",
        "    \n",
        "    # ACÁ TERMINA LA FUNCIÓN\n",
        "    # ESTA VEZ TU DEFINES TUS RETORNOS\n",
        "\n",
        "def eliminar_materia(pensum, semestre, materia):\n",
        "    # ACÁ INICIA LA FUNCIÓN\n",
        "    \n",
        "    \n",
        "    \n",
        "    # ACÁ TERMINA LA FUNCIÓN\n",
        "    # ESTA VEZ TU DEFINES TUS RETORNOS"
      ]
    }
  ]
}