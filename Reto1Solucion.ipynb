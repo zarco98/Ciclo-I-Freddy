{
  "nbformat": 4,
  "nbformat_minor": 0,
  "metadata": {
    "colab": {
      "provenance": [],
      "authorship_tag": "ABX9TyOLSqVTAYie4OlPfqXJd46R",
      "include_colab_link": true
    },
    "kernelspec": {
      "name": "python3",
      "display_name": "Python 3"
    },
    "language_info": {
      "name": "python"
    }
  },
  "cells": [
    {
      "cell_type": "markdown",
      "metadata": {
        "id": "view-in-github",
        "colab_type": "text"
      },
      "source": [
        "<a href=\"https://colab.research.google.com/github/zarco98/Ciclo-I-Freddy/blob/Reto-1/Reto1Solucion.ipynb\" target=\"_parent\"><img src=\"https://colab.research.google.com/assets/colab-badge.svg\" alt=\"Open In Colab\"/></a>"
      ]
    },
    {
      "cell_type": "code",
      "execution_count": null,
      "metadata": {
        "id": "j6qhlP-fA9T0"
      },
      "outputs": [],
      "source": [
        "\"\"\"\n",
        "NO ELIMINAR LAS SIGUIENTES IMPORTACIONES, \n",
        "El equipo de desarrollo de este calificador modificó las funciones 'print' e 'input'.\n",
        "Esta modificación se hizo con la finalidad de que el sistema pueda calificar tu solución.\n",
        "Por eso LEER MUY BIEN LO QUE SE SOLICITA Y LAS RESTRICCIONES QUE SE LE IMPUSIERON A ESTAS DOS FUNCIONES.\n",
        "\"\"\"\n",
        "from student_utilities import input, print\n",
        "def solucion(b,n):\n",
        "#Rifa de 1000000 COP.\n",
        "#Reglas:\n",
        "#1. Participante debe adivinar un número n entre 0 y b.\n",
        "#2. El sistema debe indicarle si está encima o debajo del que debe adivinar.\n",
        "#3. Una vez se haya adivinado el número, se debe imprimir a cuántos intentos el participante adivinó el número.\n",
        "#4. b es un número mayor o igual a 30.\n",
        "#Contador del número de intentos. \n",
        "    intentos = 0\n",
        "#Ciclo que permite evaluar si el número adivinado por el participante está dentro del rango o no\n",
        "    while True:\n",
        "#El número que ingresa el participante\n",
        "                    i = input(\"Ingrese un número:\")\n",
        "#String que ingresó el usuario transformado a integer\n",
        "                    numero = int(i)\n",
        "#Variable b o rango\n",
        "                    b1=int(b)\n",
        "#Variable n o número a adivinar\n",
        "                    n1 = int(n)\n",
        "#Condición 1: El número ingresado por el participante es menor a n y mayor o igual a 0 (rango inferior)\n",
        "                    if numero < n1 and numero>=0:\n",
        "#Sume un intento.        \n",
        "                        intentos=intentos+1\n",
        "#Aviso de que está por debajo.\n",
        "                        print(\"¡Ups! Estás por debajo\")\n",
        "#Condición 2: El número ingresado por el participante es mayor a n y menor o igual a b (rango superior)\n",
        "                    elif numero > n1 and numero <=b1:\n",
        "#Sume un intento. \n",
        "                        intentos=intentos+1\n",
        "#Aviso de que está por encima.\n",
        "                        print(\"¡Ups! Te pasaste\")\n",
        "#Condición 3: El número ingresado por el participante es n\n",
        "                    elif numero == n1:\n",
        "#Sume un intento.\n",
        "                        intentos = intentos+1\n",
        "#Aviso de la cantidad de intentos\n",
        "                        print(f\"¡LO LOGRASTE! Usaste {intentos} intentos\")\n",
        "#Fin del juego\n",
        "                        break\n",
        "#Condición 4: Si el número ingresado por el participante está por fuera del rango (0,b)\n",
        "                    else:\n",
        "#No se suma un intento\n",
        "                        intentos=intentos\n",
        "#Aviso de que está fuera del intervalo de búsqueda\n",
        "                        print(\"¡Te saliste del intervalo!\")\n",
        "    #ACÁ TERMINA LA FUNCIÓN SOLUCIÓN\n",
        "\"\"\"\n",
        "¡IMPORTANTE! ¡IMPORTANTE! ¡IMPORTANTE! ¡IMPORTANTE! ¡IMPORTANTE! ¡IMPORTANTE! ¡IMPORTANTE! ¡IMPORTANTE!\n",
        "NO AÑADIR CÓDIGO FUERA DE LA FUNCIÓN calcular_promedio_y_cuadro_honor(grupo) .\n",
        "SOLO AÑADIR CÓDIGO ENTRE EL ESPACIO DONDE DICE: ACÁ INICIA... ACÁ TERMINA\n",
        "\"\"\""
      ]
    }
  ]
}