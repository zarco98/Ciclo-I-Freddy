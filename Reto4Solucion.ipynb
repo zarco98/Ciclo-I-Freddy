{
  "nbformat": 4,
  "nbformat_minor": 0,
  "metadata": {
    "colab": {
      "provenance": [],
      "authorship_tag": "ABX9TyNgfAC4sBUNsTIuBJUEmJ/t",
      "include_colab_link": true
    },
    "kernelspec": {
      "name": "python3",
      "display_name": "Python 3"
    },
    "language_info": {
      "name": "python"
    }
  },
  "cells": [
    {
      "cell_type": "markdown",
      "metadata": {
        "id": "view-in-github",
        "colab_type": "text"
      },
      "source": [
        "<a href=\"https://colab.research.google.com/github/zarco98/Ciclo-I-Freddy/blob/Reto-4/Reto4Solucion.ipynb\" target=\"_parent\"><img src=\"https://colab.research.google.com/assets/colab-badge.svg\" alt=\"Open In Colab\"/></a>"
      ]
    },
    {
      "cell_type": "code",
      "execution_count": null,
      "metadata": {
        "id": "wJh1q14JoRMe"
      },
      "outputs": [],
      "source": [
        "# POR FAVOR LEA TODAS LAS INDICACIONES SUMINISTRADAS EN EL \n",
        "# ENUNCIADO ANTES DE EMPEZAR A IMPLEMENTAR SU SOLUCIÓN\n",
        "\n",
        "def es_semestre_valido(p, s):\n",
        "    # ESTA VEZ TU DEFINES TUS RETORNOS\n",
        "  if s > 0 and s<len(p):\n",
        "    return True\n",
        "  else:\n",
        "    return False\n",
        "\n",
        "def es_semestre_vacio(p, s):\n",
        "    # ESTA VEZ TU DEFINES TUS RETORNOS\n",
        "    if len(p[s-1]) == 0:\n",
        "        return True\n",
        "    else:\n",
        "        return False\n",
        "\n",
        "def es_materia_valida(p, s, m):\n",
        "    # ESTA VEZ TU DEFINES TUS RETORNOS\n",
        "  if m in p[s-1]:\n",
        "    return True\n",
        "  else:\n",
        "    return False\n",
        "\n",
        "def modificar_materia(pensum, semestre, materia, nombre, creditos):\n",
        "    # ACÁ INICIA LA FUNCIÓN\n",
        "    if es_semestre_valido and not es_semestre_vacio:\n",
        "        if es_materia_valida:\n",
        "            pensum[semestre-1][materia]['nombre'] = \"nombre\"\n",
        "            pensum[semestre-1][materia]['creditos'] = \"creditos\"\n",
        "            mensaje = (\"La materia fue modificada\")\n",
        "            return mensaje\n",
        "    # ACÁ TERMINA LA FUNCIÓN\n",
        "    # ESTA VEZ TU DEFINES TUS RETORNOS\n",
        "\n",
        "def eliminar_materia(pensum, semestre, materia):\n",
        "    # ACÁ INICIA LA FUNCIÓN\n",
        "    if es_semestre_valido and not es_semestre_vacio:\n",
        "        if es_materia_valida:\n",
        "            del pensum[semestre-1][materia]\n",
        "            mensaje = (\"La materia fue eliminada\")\n",
        "            return mensaje\n",
        "    # ACÁ TERMINA LA FUNCIÓN\n",
        "    # ESTA VEZ TU DEFINES TUS RETORNOS"
      ]
    }
  ]
}