{
  "nbformat": 4,
  "nbformat_minor": 0,
  "metadata": {
    "colab": {
      "provenance": [],
      "authorship_tag": "ABX9TyNjPMlepdD9Kp0GeAuvJ1F0",
      "include_colab_link": true
    },
    "kernelspec": {
      "name": "python3",
      "display_name": "Python 3"
    },
    "language_info": {
      "name": "python"
    }
  },
  "cells": [
    {
      "cell_type": "markdown",
      "metadata": {
        "id": "view-in-github",
        "colab_type": "text"
      },
      "source": [
        "<a href=\"https://colab.research.google.com/github/zarco98/Ciclo-I-Freddy/blob/Reto-1/Reto1.ipynb\" target=\"_parent\"><img src=\"https://colab.research.google.com/assets/colab-badge.svg\" alt=\"Open In Colab\"/></a>"
      ]
    },
    {
      "cell_type": "code",
      "execution_count": null,
      "metadata": {
        "id": "36MCXMnd9PoV"
      },
      "outputs": [],
      "source": [
        "\"\"\"\n",
        "NO ELIMINAR LAS SIGUIENTES IMPORTACIONES, \n",
        "El equipo de desarrollo de este calificador modificó las funciones 'print' e 'input'.\n",
        "Esta modificación se hizo con la finalidad de que el sistema pueda calificar tu solución.\n",
        "Por eso LEER MUY BIEN LO QUE SE SOLICITA Y LAS RESTRICCIONES QUE SE LE IMPUSIERON A ESTAS DOS FUNCIONES.\n",
        "\"\"\"\n",
        "from student_utilities import input, print\n",
        "\n",
        "\n",
        "def solucion(b,n):\n",
        "    #ACÁ INICIA LA FUNCIÓN SOLUCIÓN (En este espacio debes entregar tu solución)\n",
        "    \n",
        "    \n",
        "    \n",
        "    \n",
        "    \n",
        "    \n",
        "    \n",
        "    \n",
        "    \n",
        "    \n",
        "    \n",
        "    #ACÁ TERMINA LA FUNCIÓN SOLUCIÓN\n",
        "\"\"\"\n",
        "¡IMPORTANTE! ¡IMPORTANTE! ¡IMPORTANTE! ¡IMPORTANTE! ¡IMPORTANTE! ¡IMPORTANTE! ¡IMPORTANTE! ¡IMPORTANTE!\n",
        "NO AÑADIR CÓDIGO FUERA DE LA FUNCIÓN calcular_promedio_y_cuadro_honor(grupo) .\n",
        "SOLO AÑADIR CÓDIGO ENTRE EL ESPACIO DONDE DICE: ACÁ INICIA... ACÁ TERMINA\n",
        "\"\"\""
      ]
    }
  ]
}