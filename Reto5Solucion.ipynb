{
  "nbformat": 4,
  "nbformat_minor": 0,
  "metadata": {
    "colab": {
      "provenance": [],
      "authorship_tag": "ABX9TyMSYR3gAXkRUQuukUB3nck2",
      "include_colab_link": true
    },
    "kernelspec": {
      "name": "python3",
      "display_name": "Python 3"
    },
    "language_info": {
      "name": "python"
    }
  },
  "cells": [
    {
      "cell_type": "markdown",
      "metadata": {
        "id": "view-in-github",
        "colab_type": "text"
      },
      "source": [
        "<a href=\"https://colab.research.google.com/github/zarco98/Ciclo-I-Freddy/blob/Reto-5/Reto5Solucion.ipynb\" target=\"_parent\"><img src=\"https://colab.research.google.com/assets/colab-badge.svg\" alt=\"Open In Colab\"/></a>"
      ]
    },
    {
      "cell_type": "code",
      "execution_count": null,
      "metadata": {
        "id": "PER5rSGspFRW"
      },
      "outputs": [],
      "source": [
        "#NO ELIMINAR LAS SIGUIENTES IMPORTACIONES, sirven para el funcionamiento de las librería csv y json respectivamente\n",
        "import csv, json\n",
        "\"\"\"NOTAS: \n",
        "    - PARA ESTE RETO PUEDES PROBAR TU PROGRAMA, DANDO CLICK EN LA NAVE ESPACIAL\n",
        "    - LA CONSOLA TE DIRÁ SI TU SOLUCIÓN ES CORRECTA O NO\n",
        "    - NO olvidar evaluar tu solución\n",
        "\"\"\"\n",
        "\n",
        "\n",
        "\"\"\"Inicio espacio para programar funciones propias\"\"\"\n",
        "#En este espacio podrás programar las funciones que deseas usar en la función solución (ES OPCIONAL)\n",
        "\n",
        "\n",
        "\n",
        "\"\"\"Fin espacio para programar funciones propias\"\"\"\n",
        "\n",
        "def solucion():\n",
        "    #ESTA ES LA FUNCIÓN A LA QUE LE DEBES GARANTIZAR LOS RETORNOS REQUERIDOS EN EL ENUNCIADO.\n",
        "                with open(\"GLOBANT.csv\", \"r\", newline='') as archivo:\n",
        "                    archivo_entrada = csv.reader(archivo, delimiter=',')\n",
        "                    with open(\"analisis_archivo.csv\", \"w\", newline='') as archivo:\n",
        "                        archivo_salida = csv.writer(archivo, delimiter='\\t')\n",
        "                        archivo_salida.writerow([\"Fecha\", \"Comportamiento de la accion\", \"Punto medio HIGH-LOW\"]) \n",
        "\n",
        "                        next(archivo_entrada)\n",
        "\n",
        "                        lista_low=[]\n",
        "                        lista_high=[]\n",
        "                        lista_date=[]\n",
        "\n",
        "                        cantidad_veces_sube=0\n",
        "                        cantidad_veces_baja=0\n",
        "                        cantidad_veces_estable=0\n",
        "                        for fila in archivo_entrada:\n",
        "                            date = fila[0]\n",
        "                            abierto = float(fila[1])\n",
        "                            high = float(fila[2])\n",
        "                            low = float(fila[3])\n",
        "                            close = float(fila[4])\n",
        "                            adj_close = float(fila[5])\n",
        "                            volume = float(fila[6])\n",
        "                        \n",
        "                            if ((close-abierto)>0):\n",
        "                                concepto = \"SUBE\"\n",
        "                                cantidad_veces_sube=cantidad_veces_sube+1\n",
        "                            elif ((close-abierto)<0):\n",
        "                                concepto = \"BAJA\"\n",
        "                                cantidad_veces_baja=cantidad_veces_baja+1\n",
        "                            else:\n",
        "                                concepto = \"ESTABLE\"\n",
        "                                cantidad_veces_estable=cantidad_veces_estable+1\n",
        "                                \n",
        "                            resultado = (high-low)/2\n",
        "                            \n",
        "                            archivo_salida.writerow([date, concepto, resultado])\n",
        "                            \n",
        "                            lista_low.append(low)\n",
        "                            lista_high.append(high)\n",
        "                            lista_date.append(date)\n",
        "                            lowest_price = min(lista_low)\n",
        "                            highest_price = max(lista_high)\n",
        "                            indice_lowest_price = lista_low.index(lowest_price)\n",
        "                            indice_highest_price = lista_high.index(highest_price)\n",
        "                            date_lowest_price = lista_date[indice_lowest_price]\n",
        "                            date_highest_price = lista_date[indice_highest_price]\n",
        "                        \n",
        "                        datos = {}\n",
        "                        datos[\"date_lowest_price\"]=date_lowest_price\n",
        "                        datos[\"lowest_price\"]=lowest_price\n",
        "                        datos[\"date_highest_price\"]=date_highest_price\n",
        "                        datos[\"highest_price\"]=highest_price\n",
        "                        datos[\"cantidad_veces_sube\"]=cantidad_veces_sube\n",
        "                        datos[\"cantidad_veces_baja\"]=cantidad_veces_baja\n",
        "                        datos[\"cantidad_veces_estable\"]=cantidad_veces_estable\n",
        "                        \n",
        "                        with open(\"detalles.json\",\"w\",newline='') as archivo:\n",
        "                            json.dump(datos, archivo)\n",
        "    \n",
        "    "
      ]
    }
  ]
}